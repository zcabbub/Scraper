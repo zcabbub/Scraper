{
 "cells": [
  {
   "cell_type": "code",
   "execution_count": 1,
   "metadata": {},
   "outputs": [],
   "source": [
    "# import packages\n",
    "from bs4 import BeautifulSoup\n",
    "import requests\n",
    "import gzip\n",
    "from io import BytesIO\n",
    "import urllib.request as urllib\n",
    "import pandas as pd\n"
   ]
  },
  {
   "cell_type": "code",
   "execution_count": 2,
   "metadata": {},
   "outputs": [],
   "source": [
    "#load this index-sitemap\n",
    "r = requests.get(\"https://www.gofundme.com/sitemap.xml\")\n",
    "xml = r.text\n",
    "soup = BeautifulSoup(xml,\"lxml\")\n",
    "sitemapTags = soup.find_all(\"sitemap\")\n",
    "\n",
    "urls_list = []\n",
    "urls_total = 0\n"
   ]
  },
  {
   "cell_type": "code",
   "execution_count": 3,
   "metadata": {},
   "outputs": [
    {
     "name": "stdout",
     "output_type": "stream",
     "text": [
      "https://www.gofundme.com/sitemaps/sitemap10.xml.gz\n",
      "50000 - 50000\n",
      "https://www.gofundme.com/sitemaps/sitemap11.xml.gz\n",
      "100000 - 50000\n",
      "https://www.gofundme.com/sitemaps/sitemap12.xml.gz\n",
      "150000 - 50000\n",
      "https://www.gofundme.com/sitemaps/sitemap13.xml.gz\n",
      "200000 - 50000\n",
      "https://www.gofundme.com/sitemaps/sitemap14.xml.gz\n",
      "250000 - 50000\n",
      "https://www.gofundme.com/sitemaps/sitemap15.xml.gz\n",
      "300000 - 50000\n",
      "https://www.gofundme.com/sitemaps/sitemap16.xml.gz\n",
      "350000 - 50000\n",
      "https://www.gofundme.com/sitemaps/sitemap17.xml.gz\n",
      "400000 - 50000\n",
      "https://www.gofundme.com/sitemaps/sitemap18.xml.gz\n",
      "450000 - 50000\n",
      "https://www.gofundme.com/sitemaps/sitemap19.xml.gz\n",
      "500000 - 50000\n",
      "https://www.gofundme.com/sitemaps/sitemap1.xml.gz\n",
      "550000 - 50000\n",
      "https://www.gofundme.com/sitemaps/sitemap20.xml.gz\n",
      "600000 - 50000\n",
      "https://www.gofundme.com/sitemaps/sitemap21.xml.gz\n",
      "650000 - 50000\n",
      "https://www.gofundme.com/sitemaps/sitemap22.xml.gz\n",
      "700000 - 50000\n",
      "https://www.gofundme.com/sitemaps/sitemap23.xml.gz\n",
      "750000 - 50000\n",
      "https://www.gofundme.com/sitemaps/sitemap24.xml.gz\n",
      "800000 - 50000\n",
      "https://www.gofundme.com/sitemaps/sitemap25.xml.gz\n",
      "850000 - 50000\n",
      "https://www.gofundme.com/sitemaps/sitemap26.xml.gz\n",
      "900000 - 50000\n",
      "https://www.gofundme.com/sitemaps/sitemap27.xml.gz\n",
      "950000 - 50000\n",
      "https://www.gofundme.com/sitemaps/sitemap28.xml.gz\n",
      "1000000 - 50000\n",
      "https://www.gofundme.com/sitemaps/sitemap29.xml.gz\n",
      "1050000 - 50000\n",
      "https://www.gofundme.com/sitemaps/sitemap2.xml.gz\n",
      "1100000 - 50000\n",
      "https://www.gofundme.com/sitemaps/sitemap30.xml.gz\n",
      "1150000 - 50000\n",
      "https://www.gofundme.com/sitemaps/sitemap31.xml.gz\n",
      "1200000 - 50000\n",
      "https://www.gofundme.com/sitemaps/sitemap32.xml.gz\n",
      "1250000 - 50000\n",
      "https://www.gofundme.com/sitemaps/sitemap33.xml.gz\n",
      "1300000 - 50000\n",
      "https://www.gofundme.com/sitemaps/sitemap34.xml.gz\n",
      "1350000 - 50000\n",
      "https://www.gofundme.com/sitemaps/sitemap35.xml.gz\n",
      "1392326 - 42326\n",
      "https://www.gofundme.com/sitemaps/sitemap3.xml.gz\n",
      "1442326 - 50000\n",
      "https://www.gofundme.com/sitemaps/sitemap4.xml.gz\n",
      "1492326 - 50000\n",
      "https://www.gofundme.com/sitemaps/sitemap5.xml.gz\n",
      "1542326 - 50000\n",
      "https://www.gofundme.com/sitemaps/sitemap6.xml.gz\n",
      "1592326 - 50000\n",
      "https://www.gofundme.com/sitemaps/sitemap7.xml.gz\n",
      "1642326 - 50000\n",
      "https://www.gofundme.com/sitemaps/sitemap8.xml.gz\n",
      "1692326 - 50000\n",
      "https://www.gofundme.com/sitemaps/sitemap9.xml.gz\n",
      "1742326 - 50000\n",
      "https://www.gofundme.com/sitemaps/sitemap_marketing.xml.gz\n",
      "1742393 - 67\n"
     ]
    }
   ],
   "source": [
    "#loop to find all sub-sitemap URLs\n",
    "\n",
    "for sitemap in sitemapTags:\n",
    "    subsitemap = sitemap.findNext(\"loc\").text\n",
    "    print(subsitemap)\n",
    "    \n",
    "    #load and handle the gzip stuff to get a proper XML\n",
    "    request = urllib.Request(subsitemap)\n",
    "    request.add_header('Accept-encoding', 'gzip')\n",
    "    response = urllib.urlopen(request)\n",
    "    \n",
    "    buf = BytesIO(response.read())\n",
    "    f = gzip.GzipFile(fileobj=buf)\n",
    "    data = f.read()\n",
    "    \n",
    "    soup2 = BeautifulSoup(str(data),\"lxml\")\n",
    "    urlTags = soup2.find_all(\"url\")\n",
    "    urls_total = urls_total + int(len(urlTags))\n",
    "    print(str(urls_total) + \" - \" + str(len(urlTags))) \n",
    "    \n",
    "    #Loop URLs withing ever sub-sitemap \n",
    "    for url in urlTags:\n",
    "        urls_list.append(url.findNext(\"loc\").text)\n",
    "        "
   ]
  },
  {
   "cell_type": "code",
   "execution_count": 4,
   "metadata": {},
   "outputs": [],
   "source": [
    "#df = pd.DataFrame({'urls_list': urls_list,'lastmod_list': lastmod_list,'changefreq_list': changefreq_list})\n",
    "#df"
   ]
  },
  {
   "cell_type": "code",
   "execution_count": 4,
   "metadata": {},
   "outputs": [],
   "source": [
    "with open('url_list.txt', 'w') as file:\n",
    "    file.write('\\n'.join(urls_list))"
   ]
  }
 ],
 "metadata": {
  "kernelspec": {
   "display_name": "Python 3",
   "language": "python",
   "name": "python3"
  },
  "language_info": {
   "codemirror_mode": {
    "name": "ipython",
    "version": 3
   },
   "file_extension": ".py",
   "mimetype": "text/x-python",
   "name": "python",
   "nbconvert_exporter": "python",
   "pygments_lexer": "ipython3",
   "version": "3.8.3"
  }
 },
 "nbformat": 4,
 "nbformat_minor": 4
}
